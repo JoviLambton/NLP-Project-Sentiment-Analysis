{
 "cells": [
  {
   "cell_type": "code",
   "execution_count": 1,
   "metadata": {},
   "outputs": [],
   "source": [
    "# Import necessary libraries\n",
    "import pandas as pd\n",
    "import numpy as np\n",
    "from sklearn.decomposition import PCA\n",
    "from sklearn.manifold import TSNE\n",
    "import matplotlib.pyplot as plt\n",
    "import seaborn as sns\n",
    "import re\n",
    "from nltk.tokenize import word_tokenize\n",
    "from nltk.corpus import stopwords\n",
    "import nltk\n",
    "from gensim.models import KeyedVectors\n",
    "from gensim.scripts.glove2word2vec import glove2word2vec\n",
    "from sklearn.manifold import TSNE\n",
    "import gensim.downloader as api\n",
    "import os\n",
    "from sklearn.preprocessing import LabelEncoder\n"
   ]
  },
  {
   "cell_type": "code",
   "execution_count": 2,
   "metadata": {},
   "outputs": [
    {
     "name": "stdout",
     "output_type": "stream",
     "text": [
      "True\n"
     ]
    }
   ],
   "source": [
    "import os\n",
    "file_path = 'C:\\\\1.Term3\\\\AML_2034_NLP\\\\Project\\\\model_data\\\\model_data.csv'\n",
    "print(os.path.exists(file_path))\n",
    "\n",
    "\n",
    "# Specify the correct file path\n",
    "file_path = \"C:\\\\1.Term3\\\\AML_2034_NLP\\\\Project\\\\model_data\\\\model_data.csv\"\n",
    "\n",
    "# Load the dataset\n",
    "with open(file_path, 'r', encoding='utf-8') as file:\n",
    "    data = file.readlines()\n",
    "\n",
    "# Assuming each line in the text file represents a review\n",
    "df = pd.DataFrame(data, columns=['text'])"
   ]
  },
  {
   "cell_type": "code",
   "execution_count": 3,
   "metadata": {},
   "outputs": [
    {
     "data": {
      "text/html": [
       "<div>\n",
       "<style scoped>\n",
       "    .dataframe tbody tr th:only-of-type {\n",
       "        vertical-align: middle;\n",
       "    }\n",
       "\n",
       "    .dataframe tbody tr th {\n",
       "        vertical-align: top;\n",
       "    }\n",
       "\n",
       "    .dataframe thead th {\n",
       "        text-align: right;\n",
       "    }\n",
       "</style>\n",
       "<table border=\"1\" class=\"dataframe\">\n",
       "  <thead>\n",
       "    <tr style=\"text-align: right;\">\n",
       "      <th></th>\n",
       "      <th>text</th>\n",
       "    </tr>\n",
       "  </thead>\n",
       "  <tbody>\n",
       "    <tr>\n",
       "      <th>0</th>\n",
       "      <td>label,word_tokens,rating,number_of_words\\n</td>\n",
       "    </tr>\n",
       "    <tr>\n",
       "      <th>1</th>\n",
       "      <td>0,\"['model', 'ok', 'sedentary', 'type', 'm', '...</td>\n",
       "    </tr>\n",
       "    <tr>\n",
       "      <th>2</th>\n",
       "      <td>2,\"['fast', 'read', 'fill', 'unexpected', 'hum...</td>\n",
       "    </tr>\n",
       "    <tr>\n",
       "      <th>3</th>\n",
       "      <td>0,\"['buy', 'chargersthe', 'instruction', 'ligh...</td>\n",
       "    </tr>\n",
       "    <tr>\n",
       "      <th>4</th>\n",
       "      <td>0,\"['excited', 'find', 'book', 'ostensibly', '...</td>\n",
       "    </tr>\n",
       "  </tbody>\n",
       "</table>\n",
       "</div>"
      ],
      "text/plain": [
       "                                                text\n",
       "0         label,word_tokens,rating,number_of_words\\n\n",
       "1  0,\"['model', 'ok', 'sedentary', 'type', 'm', '...\n",
       "2  2,\"['fast', 'read', 'fill', 'unexpected', 'hum...\n",
       "3  0,\"['buy', 'chargersthe', 'instruction', 'ligh...\n",
       "4  0,\"['excited', 'find', 'book', 'ostensibly', '..."
      ]
     },
     "execution_count": 3,
     "metadata": {},
     "output_type": "execute_result"
    }
   ],
   "source": [
    "df.head()"
   ]
  },
  {
   "cell_type": "code",
   "execution_count": 4,
   "metadata": {},
   "outputs": [
    {
     "name": "stdout",
     "output_type": "stream",
     "text": [
      "Index(['text'], dtype='object')\n"
     ]
    }
   ],
   "source": [
    "column_names = df.columns\n",
    "print(column_names)\n"
   ]
  },
  {
   "cell_type": "code",
   "execution_count": 5,
   "metadata": {},
   "outputs": [
    {
     "data": {
      "text/html": [
       "<div>\n",
       "<style scoped>\n",
       "    .dataframe tbody tr th:only-of-type {\n",
       "        vertical-align: middle;\n",
       "    }\n",
       "\n",
       "    .dataframe tbody tr th {\n",
       "        vertical-align: top;\n",
       "    }\n",
       "\n",
       "    .dataframe thead th {\n",
       "        text-align: right;\n",
       "    }\n",
       "</style>\n",
       "<table border=\"1\" class=\"dataframe\">\n",
       "  <thead>\n",
       "    <tr style=\"text-align: right;\">\n",
       "      <th></th>\n",
       "      <th>text</th>\n",
       "    </tr>\n",
       "  </thead>\n",
       "  <tbody>\n",
       "    <tr>\n",
       "      <th>count</th>\n",
       "      <td>249391</td>\n",
       "    </tr>\n",
       "    <tr>\n",
       "      <th>unique</th>\n",
       "      <td>249348</td>\n",
       "    </tr>\n",
       "    <tr>\n",
       "      <th>top</th>\n",
       "      <td>2,\"['little', 'mermaidwa', 'film', 'revitalize...</td>\n",
       "    </tr>\n",
       "    <tr>\n",
       "      <th>freq</th>\n",
       "      <td>3</td>\n",
       "    </tr>\n",
       "  </tbody>\n",
       "</table>\n",
       "</div>"
      ],
      "text/plain": [
       "                                                     text\n",
       "count                                              249391\n",
       "unique                                             249348\n",
       "top     2,\"['little', 'mermaidwa', 'film', 'revitalize...\n",
       "freq                                                    3"
      ]
     },
     "execution_count": 5,
     "metadata": {},
     "output_type": "execute_result"
    }
   ],
   "source": [
    "df.describe()\n"
   ]
  },
  {
   "cell_type": "code",
   "execution_count": 6,
   "metadata": {},
   "outputs": [
    {
     "name": "stdout",
     "output_type": "stream",
     "text": [
      "text    0\n",
      "dtype: int64\n"
     ]
    }
   ],
   "source": [
    "# Check for missing values\n",
    "print(df.isnull().sum())"
   ]
  },
  {
   "cell_type": "code",
   "execution_count": 7,
   "metadata": {},
   "outputs": [],
   "source": [
    "# Explore the distribution of review lengths\n",
    "df['review_length'] = df['text'].apply(len)\n"
   ]
  },
  {
   "cell_type": "code",
   "execution_count": 8,
   "metadata": {},
   "outputs": [
    {
     "data": {
      "image/png": "[encoded data removed]",
      "text/plain": [
       "<Figure size 1000x600 with 1 Axes>"
      ]
     },
     "metadata": {},
     "output_type": "display_data"
    }
   ],
   "source": [
    "# Histogram of lengths of the reviews\n",
    "plt.figure(figsize=(10, 6))\n",
    "sns.histplot(df['review_length'], bins=30, kde=True)\n",
    "plt.title('Distribution of Review Lengths')\n",
    "plt.xlabel('Review Length')\n",
    "plt.ylabel('Count')\n",
    "plt.show()"
   ]
  },
  {
   "cell_type": "code",
   "execution_count": null,
   "metadata": {},
   "outputs": [],
   "source": []
  },
  {
   "cell_type": "code",
   "execution_count": 9,
   "metadata": {},
   "outputs": [],
   "source": [
    "# #  Preprocess the text data\n",
    "# def preprocess_text(text):\n",
    "#     # Lowercasing\n",
    "#     text = text.lower()\n",
    "#     # Remove special characters\n",
    "#     text = re.sub(r'\\W+', ' ', text)\n",
    "#     # Tokenization\n",
    "#     tokens = word_tokenize(text)\n",
    "#     # Remove stopwords\n",
    "#     stop_words = set(stopwords.words('english'))\n",
    "#     tokens = [word for word in tokens if word not in stop_words]\n",
    "#     return tokens\n",
    "\n",
    "# df['cleaned_text'] = df['text'].apply(preprocess_text)"
   ]
  },
  {
   "cell_type": "code",
   "execution_count": 10,
   "metadata": {},
   "outputs": [],
   "source": [
    "# from gensim.scripts.glove2word2vec import glove2word2vec\n",
    "# # from gensim.models import KeyedVectors\n",
    "\n",
    "# glove_input_file = 'C:\\\\glove.6B.100d.txt'  # Replace with your path to the GloVe file\n",
    "# word2vec_output_file = 'glove.6B.100d.word2vec'\n",
    "# glove2word2vec(glove_input_file, word2vec_output_file)\n",
    "\n",
    "# glove_model = KeyedVectors.load_word2vec_format(word2vec_output_file, binary=False)\n"
   ]
  },
  {
   "cell_type": "code",
   "execution_count": 11,
   "metadata": {},
   "outputs": [],
   "source": [
    "# def vectorize_text(tokens, model):\n",
    "#     word_vectors = [model[word] for word in tokens if word in model]\n",
    "#     if len(word_vectors) == 0:\n",
    "#         return np.zeros(model.vector_size)\n",
    "#     return np.mean(word_vectors, axis=0)\n",
    "\n",
    "# # Apply the vectorization to the cleaned text\n",
    "# df['vectorized_text'] = df['cleaned_text'].apply(lambda x: vectorize_text(x, glove_model))\n"
   ]
  },
  {
   "cell_type": "code",
   "execution_count": 12,
   "metadata": {},
   "outputs": [],
   "source": [
    "\n",
    "\n",
    "# Check if the file exists\n",
    "file_path = 'C:\\\\1.Term3\\\\AML_2034_NLP\\\\Project\\\\model_data\\\\model_data.csv'\n",
    "if not os.path.exists(file_path):\n",
    "    print(f\"The file '{file_path}' does not exist.\")\n",
    "else:\n",
    "    # Specify the path to your GloVe word vectors file\n",
    "    glove_file = 'C:\\\\1.Term3\\\\AML_2034_NLP\\\\Project\\\\glove.6B.50d.txt'  # Replace with the actual file path\n",
    "\n",
    "    # Load GloVe word vectors into a dictionary\n",
    "    glove_embeddings = {}\n",
    "    with open(glove_file, 'r', encoding='utf-8') as glove:\n",
    "        for line in glove:\n",
    "            values = line.strip().split()\n",
    "            word = values[0]\n",
    "            vector = np.array(values[1:], dtype='float32')\n",
    "            glove_embeddings[word] = vector\n",
    "\n",
    "    # Load your preprocessed data into a DataFrame\n",
    "    with open(file_path, 'r', encoding='utf-8') as file:\n",
    "        data = file.readlines()\n",
    "\n",
    "    # Assuming each line in the text file represents a review\n",
    "    df = pd.DataFrame(data, columns=['text'])\n",
    "\n",
    "    # Tokenize and prepare your text data\n",
    "    df['tokens'] = df['text'].apply(word_tokenize)\n",
    "\n",
    "    # Function to get the vector representation of a sentence\n",
    "    def get_sentence_vector(tokens):\n",
    "        vector_sum = np.zeros(len(next(iter(glove_embeddings.values()))))  # Initialize with zeros\n",
    "        count = 0\n",
    "        for word in tokens:\n",
    "            if word in glove_embeddings:\n",
    "                vector_sum += glove_embeddings[word]\n",
    "                count += 1\n",
    "        if count > 0:\n",
    "            return vector_sum / count\n",
    "        else:\n",
    "            return vector_sum\n",
    "\n",
    "    # Apply word embedding to each sentence\n",
    "    df['embedding'] = df['tokens'].apply(get_sentence_vector)\n",
    "\n",
    "    # Perform dimensionality reduction for visualization (TSNE)\n",
    "    tsne = TSNE(n_components=2, random_state=42)\n",
    "    embeddings = np.stack(df['embedding'].to_numpy())\n",
    "    embedded_data = tsne.fit_transform(embeddings)\n",
    "\n",
    "    # Create a scatter plot\n",
    "    plt.figure(figsize=(10, 8))\n",
    "    plt.scatter(embedded_data[:, 0], embedded_data[:, 1], alpha=0.5)\n",
    "    plt.title('Word Embedding Visualization (GloVe)')\n",
    "    plt.xlabel('Dimension 1')\n",
    "    plt.ylabel('Dimension 2')\n",
    "\n",
    "    # Annotate some points with words for better visualization\n",
    "    num_words_to_annotate = 10\n",
    "    for i in range(num_words_to_annotate):\n",
    "        word = df.iloc[i]['text']\n",
    "        x, y = embedded_data[i]\n",
    "        plt.annotate(word, (x, y), alpha=0.7)\n",
    "\n",
    "    plt.show()\n",
    "\n",
    "   \n",
    "\n"
   ]
  }
 ],
 "metadata": {
  "kernelspec": {
   "display_name": "Python 3",
   "language": "python",
   "name": "python3"
  },
  "language_info": {
   "codemirror_mode": {
    "name": "ipython",
    "version": 3
   },
   "file_extension": ".py",
   "mimetype": "text/x-python",
   "name": "python",
   "nbconvert_exporter": "python",
   "pygments_lexer": "ipython3",
   "version": "3.10.11"
  }
 },
 "nbformat": 4,
 "nbformat_minor": 2
}
