{
 "cells": [
  {
   "cell_type": "code",
   "execution_count": 1,
   "metadata": {},
   "outputs": [],
   "source": [
    "import pandas as pd\n",
    "import numpy as np\n",
    "from sklearn.model_selection import train_test_split"
   ]
  },
  {
   "cell_type": "code",
   "execution_count": 12,
   "metadata": {},
   "outputs": [
    {
     "name": "stdout",
     "output_type": "stream",
     "text": [
      "Old Label\n",
      "2    100403\n",
      "0     98812\n",
      "Name: old_label, dtype: int64\n",
      "\n",
      "New Label\n",
      "1    100403\n",
      "0     98812\n",
      "Name: label, dtype: int64\n"
     ]
    },
    {
     "data": {
      "text/html": [
       "<div>\n",
       "<style scoped>\n",
       "    .dataframe tbody tr th:only-of-type {\n",
       "        vertical-align: middle;\n",
       "    }\n",
       "\n",
       "    .dataframe tbody tr th {\n",
       "        vertical-align: top;\n",
       "    }\n",
       "\n",
       "    .dataframe thead th {\n",
       "        text-align: right;\n",
       "    }\n",
       "</style>\n",
       "<table border=\"1\" class=\"dataframe\">\n",
       "  <thead>\n",
       "    <tr style=\"text-align: right;\">\n",
       "      <th></th>\n",
       "      <th>old_label</th>\n",
       "      <th>final_text</th>\n",
       "      <th>rating</th>\n",
       "      <th>word_tokens</th>\n",
       "      <th>number_of_words</th>\n",
       "      <th>label</th>\n",
       "    </tr>\n",
       "  </thead>\n",
       "  <tbody>\n",
       "    <tr>\n",
       "      <th>0</th>\n",
       "      <td>0</td>\n",
       "      <td>model may ok sedentary type active get alot jo...</td>\n",
       "      <td>1</td>\n",
       "      <td>['model', 'may', 'ok', 'sedentary', 'type', 'a...</td>\n",
       "      <td>37</td>\n",
       "      <td>0</td>\n",
       "    </tr>\n",
       "    <tr>\n",
       "      <th>1</th>\n",
       "      <td>2</td>\n",
       "      <td>fast read filled unexpected humour profound in...</td>\n",
       "      <td>4</td>\n",
       "      <td>['fast', 'read', 'filled', 'unexpected', 'humo...</td>\n",
       "      <td>14</td>\n",
       "      <td>1</td>\n",
       "    </tr>\n",
       "    <tr>\n",
       "      <th>2</th>\n",
       "      <td>0</td>\n",
       "      <td>bought one charger instruction say light stay ...</td>\n",
       "      <td>2</td>\n",
       "      <td>['bought', 'one', 'charger', 'instruction', 's...</td>\n",
       "      <td>44</td>\n",
       "      <td>0</td>\n",
       "    </tr>\n",
       "    <tr>\n",
       "      <th>3</th>\n",
       "      <td>0</td>\n",
       "      <td>excited find book ostensibly feminism volume n...</td>\n",
       "      <td>2</td>\n",
       "      <td>['excited', 'find', 'book', 'ostensibly', 'fem...</td>\n",
       "      <td>50</td>\n",
       "      <td>0</td>\n",
       "    </tr>\n",
       "    <tr>\n",
       "      <th>4</th>\n",
       "      <td>0</td>\n",
       "      <td>big fan not model suspiscious saw several unit...</td>\n",
       "      <td>2</td>\n",
       "      <td>['big', 'fan', 'not', 'model', 'suspiscious', ...</td>\n",
       "      <td>45</td>\n",
       "      <td>0</td>\n",
       "    </tr>\n",
       "  </tbody>\n",
       "</table>\n",
       "</div>"
      ],
      "text/plain": [
       "   old_label                                         final_text  rating  \\\n",
       "0          0  model may ok sedentary type active get alot jo...       1   \n",
       "1          2  fast read filled unexpected humour profound in...       4   \n",
       "2          0  bought one charger instruction say light stay ...       2   \n",
       "3          0  excited find book ostensibly feminism volume n...       2   \n",
       "4          0  big fan not model suspiscious saw several unit...       2   \n",
       "\n",
       "                                         word_tokens  number_of_words  label  \n",
       "0  ['model', 'may', 'ok', 'sedentary', 'type', 'a...               37      0  \n",
       "1  ['fast', 'read', 'filled', 'unexpected', 'humo...               14      1  \n",
       "2  ['bought', 'one', 'charger', 'instruction', 's...               44      0  \n",
       "3  ['excited', 'find', 'book', 'ostensibly', 'fem...               50      0  \n",
       "4  ['big', 'fan', 'not', 'model', 'suspiscious', ...               45      0  "
      ]
     },
     "execution_count": 12,
     "metadata": {},
     "output_type": "execute_result"
    }
   ],
   "source": [
    "# Get processed data\n",
    "# df = pd.read_csv('preprocessed_data 2.csv', header=0)\n",
    "df_model_old = pd.read_csv('model_data 2.csv', header=0)\n",
    "\n",
    "# Remove neutral from the data\n",
    "df_model = df_model_old.drop(df_model_old[(df_model_old.label == 1)].index)\n",
    "df_model = df_model.rename(columns={'label':'old_label'})\n",
    "print('Old Label')\n",
    "print(df_model['old_label'].value_counts())\n",
    "\n",
    "# Retag label for positive from 2 to 1\n",
    "df_model['label'] = np.where(df_model.old_label == 0, 0, 1)\n",
    "print('\\nNew Label')\n",
    "print(df_model['label'].value_counts())\n",
    "df_model.head()"
   ]
  },
  {
   "cell_type": "code",
   "execution_count": 13,
   "metadata": {},
   "outputs": [
    {
     "name": "stdout",
     "output_type": "stream",
     "text": [
      "Train set size: (159372, 6)\n",
      "Test set size: (39843, 6)\n"
     ]
    }
   ],
   "source": [
    "# Split data into train and test sets\n",
    "df_train, df_test = train_test_split(df_model, test_size=0.2, random_state=42)\n",
    "\n",
    "print(\"Train set size:\",df_train.shape)\n",
    "print(\"Test set size:\",df_test.shape)"
   ]
  },
  {
   "cell_type": "code",
   "execution_count": 14,
   "metadata": {},
   "outputs": [],
   "source": [
    "# Y train/test split\n",
    "y_train = df_train[\"label\"]\n",
    "y_test = df_test[\"label\"]"
   ]
  },
  {
   "cell_type": "code",
   "execution_count": 15,
   "metadata": {},
   "outputs": [],
   "source": [
    "import pickle\n",
    "\n",
    "# Get pickle file\n",
    "tfidf = pickle.load(open(\"tfidf.pkl\",'rb'))"
   ]
  },
  {
   "cell_type": "code",
   "execution_count": 16,
   "metadata": {},
   "outputs": [
    {
     "name": "stdout",
     "output_type": "stream",
     "text": [
      "1600\n",
      "['ability' 'able' 'absolutely' 'account' 'accurate' 'act' 'acting'\n",
      " 'action' 'actor' 'actual' 'actually' 'adapter' 'add' 'added' 'addition'\n",
      " 'admit' 'adult' 'adventure' 'advertised' 'advice' 'age' 'ago' 'agree'\n",
      " 'ahead' 'air' 'album' 'album not' 'alien' 'allow' 'almost' 'alone' 'alot'\n",
      " 'already' 'also' 'also not' 'always' 'amazing' 'american' 'amount'\n",
      " 'animal' 'annoying' 'another' 'answer' 'anymore' 'anyone' 'anything'\n",
      " 'anyway' 'anywhere' 'apart' 'apparently']\n"
     ]
    }
   ],
   "source": [
    "# Extract feature_names\n",
    "terms_features = tfidf.get_feature_names_out()\n",
    "print(len(terms_features))\n",
    "print(terms_features[0:50])"
   ]
  },
  {
   "cell_type": "code",
   "execution_count": 17,
   "metadata": {},
   "outputs": [],
   "source": [
    "# Word vectorization using TF-IDF\n",
    "X_train_tfidf_matrix = tfidf.transform(df_train[\"final_text\"])\n",
    "X_test_tfidf_matrix = tfidf.transform(df_test[\"final_text\"])"
   ]
  },
  {
   "cell_type": "code",
   "execution_count": 18,
   "metadata": {},
   "outputs": [
    {
     "data": {
      "text/plain": [
       "array([[0., 0., 0., ..., 0., 0., 0.],\n",
       "       [0., 0., 0., ..., 0., 0., 0.],\n",
       "       [0., 0., 0., ..., 0., 0., 0.],\n",
       "       ...,\n",
       "       [0., 0., 0., ..., 0., 0., 0.],\n",
       "       [0., 0., 0., ..., 0., 0., 0.],\n",
       "       [0., 0., 0., ..., 0., 0., 0.]])"
      ]
     },
     "execution_count": 18,
     "metadata": {},
     "output_type": "execute_result"
    }
   ],
   "source": [
    "X_train_tfidf_vector = X_train_tfidf_matrix.toarray()\n",
    "X_train_tfidf_vector"
   ]
  },
  {
   "cell_type": "code",
   "execution_count": 19,
   "metadata": {},
   "outputs": [
    {
     "data": {
      "text/plain": [
       "array([[0., 0., 0., ..., 0., 0., 0.],\n",
       "       [0., 0., 0., ..., 0., 0., 0.],\n",
       "       [0., 0., 0., ..., 0., 0., 0.],\n",
       "       ...,\n",
       "       [0., 0., 0., ..., 0., 0., 0.],\n",
       "       [0., 0., 0., ..., 0., 0., 0.],\n",
       "       [0., 0., 0., ..., 0., 0., 0.]])"
      ]
     },
     "execution_count": 19,
     "metadata": {},
     "output_type": "execute_result"
    }
   ],
   "source": [
    "X_test_tfidf_vector = X_test_tfidf_matrix.toarray()\n",
    "X_test_tfidf_vector"
   ]
  },
  {
   "cell_type": "code",
   "execution_count": 20,
   "metadata": {},
   "outputs": [
    {
     "data": {
      "text/html": [
       "<div>\n",
       "<style scoped>\n",
       "    .dataframe tbody tr th:only-of-type {\n",
       "        vertical-align: middle;\n",
       "    }\n",
       "\n",
       "    .dataframe tbody tr th {\n",
       "        vertical-align: top;\n",
       "    }\n",
       "\n",
       "    .dataframe thead th {\n",
       "        text-align: right;\n",
       "    }\n",
       "</style>\n",
       "<table border=\"1\" class=\"dataframe\">\n",
       "  <thead>\n",
       "    <tr style=\"text-align: right;\">\n",
       "      <th></th>\n",
       "      <th>ability</th>\n",
       "      <th>able</th>\n",
       "      <th>absolutely</th>\n",
       "      <th>account</th>\n",
       "      <th>accurate</th>\n",
       "      <th>act</th>\n",
       "      <th>acting</th>\n",
       "      <th>action</th>\n",
       "      <th>actor</th>\n",
       "      <th>actual</th>\n",
       "      <th>...</th>\n",
       "      <th>wrong</th>\n",
       "      <th>wrote</th>\n",
       "      <th>yeah</th>\n",
       "      <th>year</th>\n",
       "      <th>year ago</th>\n",
       "      <th>year old</th>\n",
       "      <th>yes</th>\n",
       "      <th>yet</th>\n",
       "      <th>young</th>\n",
       "      <th>younger</th>\n",
       "    </tr>\n",
       "  </thead>\n",
       "  <tbody>\n",
       "    <tr>\n",
       "      <th>0</th>\n",
       "      <td>0.0</td>\n",
       "      <td>0.0</td>\n",
       "      <td>0.0</td>\n",
       "      <td>0.0</td>\n",
       "      <td>0.0</td>\n",
       "      <td>0.0</td>\n",
       "      <td>0.0</td>\n",
       "      <td>0.0</td>\n",
       "      <td>0.0</td>\n",
       "      <td>0.0</td>\n",
       "      <td>...</td>\n",
       "      <td>0.0</td>\n",
       "      <td>0.0</td>\n",
       "      <td>0.0</td>\n",
       "      <td>0.000000</td>\n",
       "      <td>0.0</td>\n",
       "      <td>0.0</td>\n",
       "      <td>0.0</td>\n",
       "      <td>0.000000</td>\n",
       "      <td>0.0</td>\n",
       "      <td>0.0</td>\n",
       "    </tr>\n",
       "    <tr>\n",
       "      <th>1</th>\n",
       "      <td>0.0</td>\n",
       "      <td>0.0</td>\n",
       "      <td>0.0</td>\n",
       "      <td>0.0</td>\n",
       "      <td>0.0</td>\n",
       "      <td>0.0</td>\n",
       "      <td>0.0</td>\n",
       "      <td>0.0</td>\n",
       "      <td>0.0</td>\n",
       "      <td>0.0</td>\n",
       "      <td>...</td>\n",
       "      <td>0.0</td>\n",
       "      <td>0.0</td>\n",
       "      <td>0.0</td>\n",
       "      <td>0.000000</td>\n",
       "      <td>0.0</td>\n",
       "      <td>0.0</td>\n",
       "      <td>0.0</td>\n",
       "      <td>0.000000</td>\n",
       "      <td>0.0</td>\n",
       "      <td>0.0</td>\n",
       "    </tr>\n",
       "    <tr>\n",
       "      <th>2</th>\n",
       "      <td>0.0</td>\n",
       "      <td>0.0</td>\n",
       "      <td>0.0</td>\n",
       "      <td>0.0</td>\n",
       "      <td>0.0</td>\n",
       "      <td>0.0</td>\n",
       "      <td>0.0</td>\n",
       "      <td>0.0</td>\n",
       "      <td>0.0</td>\n",
       "      <td>0.0</td>\n",
       "      <td>...</td>\n",
       "      <td>0.0</td>\n",
       "      <td>0.0</td>\n",
       "      <td>0.0</td>\n",
       "      <td>0.000000</td>\n",
       "      <td>0.0</td>\n",
       "      <td>0.0</td>\n",
       "      <td>0.0</td>\n",
       "      <td>0.000000</td>\n",
       "      <td>0.0</td>\n",
       "      <td>0.0</td>\n",
       "    </tr>\n",
       "    <tr>\n",
       "      <th>3</th>\n",
       "      <td>0.0</td>\n",
       "      <td>0.0</td>\n",
       "      <td>0.0</td>\n",
       "      <td>0.0</td>\n",
       "      <td>0.0</td>\n",
       "      <td>0.0</td>\n",
       "      <td>0.0</td>\n",
       "      <td>0.0</td>\n",
       "      <td>0.0</td>\n",
       "      <td>0.0</td>\n",
       "      <td>...</td>\n",
       "      <td>0.0</td>\n",
       "      <td>0.0</td>\n",
       "      <td>0.0</td>\n",
       "      <td>0.000000</td>\n",
       "      <td>0.0</td>\n",
       "      <td>0.0</td>\n",
       "      <td>0.0</td>\n",
       "      <td>0.114305</td>\n",
       "      <td>0.0</td>\n",
       "      <td>0.0</td>\n",
       "    </tr>\n",
       "    <tr>\n",
       "      <th>4</th>\n",
       "      <td>0.0</td>\n",
       "      <td>0.0</td>\n",
       "      <td>0.0</td>\n",
       "      <td>0.0</td>\n",
       "      <td>0.0</td>\n",
       "      <td>0.0</td>\n",
       "      <td>0.0</td>\n",
       "      <td>0.0</td>\n",
       "      <td>0.0</td>\n",
       "      <td>0.0</td>\n",
       "      <td>...</td>\n",
       "      <td>0.0</td>\n",
       "      <td>0.0</td>\n",
       "      <td>0.0</td>\n",
       "      <td>0.090891</td>\n",
       "      <td>0.0</td>\n",
       "      <td>0.0</td>\n",
       "      <td>0.0</td>\n",
       "      <td>0.000000</td>\n",
       "      <td>0.0</td>\n",
       "      <td>0.0</td>\n",
       "    </tr>\n",
       "  </tbody>\n",
       "</table>\n",
       "<p>5 rows × 1600 columns</p>\n",
       "</div>"
      ],
      "text/plain": [
       "   ability  able  absolutely  account  accurate  act  acting  action  actor  \\\n",
       "0      0.0   0.0         0.0      0.0       0.0  0.0     0.0     0.0    0.0   \n",
       "1      0.0   0.0         0.0      0.0       0.0  0.0     0.0     0.0    0.0   \n",
       "2      0.0   0.0         0.0      0.0       0.0  0.0     0.0     0.0    0.0   \n",
       "3      0.0   0.0         0.0      0.0       0.0  0.0     0.0     0.0    0.0   \n",
       "4      0.0   0.0         0.0      0.0       0.0  0.0     0.0     0.0    0.0   \n",
       "\n",
       "   actual  ...  wrong  wrote  yeah      year  year ago  year old  yes  \\\n",
       "0     0.0  ...    0.0    0.0   0.0  0.000000       0.0       0.0  0.0   \n",
       "1     0.0  ...    0.0    0.0   0.0  0.000000       0.0       0.0  0.0   \n",
       "2     0.0  ...    0.0    0.0   0.0  0.000000       0.0       0.0  0.0   \n",
       "3     0.0  ...    0.0    0.0   0.0  0.000000       0.0       0.0  0.0   \n",
       "4     0.0  ...    0.0    0.0   0.0  0.090891       0.0       0.0  0.0   \n",
       "\n",
       "        yet  young  younger  \n",
       "0  0.000000    0.0      0.0  \n",
       "1  0.000000    0.0      0.0  \n",
       "2  0.000000    0.0      0.0  \n",
       "3  0.114305    0.0      0.0  \n",
       "4  0.000000    0.0      0.0  \n",
       "\n",
       "[5 rows x 1600 columns]"
      ]
     },
     "execution_count": 20,
     "metadata": {},
     "output_type": "execute_result"
    }
   ],
   "source": [
    "# View tfidf matrix as a dataframe\n",
    "result = pd.DataFrame(data=X_train_tfidf_matrix.toarray(), columns=terms_features)\n",
    "result.head(5)"
   ]
  },
  {
   "cell_type": "code",
   "execution_count": 21,
   "metadata": {},
   "outputs": [
    {
     "name": "stdout",
     "output_type": "stream",
     "text": [
      "Accuracy for Naive Bayes model: 0.8177095098260673\n",
      "              precision    recall  f1-score   support\n",
      "\n",
      "           0       0.82      0.81      0.82     19830\n",
      "           1       0.81      0.83      0.82     20013\n",
      "\n",
      "    accuracy                           0.82     39843\n",
      "   macro avg       0.82      0.82      0.82     39843\n",
      "weighted avg       0.82      0.82      0.82     39843\n",
      "\n"
     ]
    }
   ],
   "source": [
    "from sklearn.naive_bayes import MultinomialNB\n",
    "from sklearn.metrics import accuracy_score,classification_report,confusion_matrix,roc_auc_score,f1_score\n",
    "\n",
    "# Model Training\n",
    "clf_nb = MultinomialNB()\n",
    "clf_nb.fit(X_train_tfidf_vector, y_train)\n",
    "\n",
    "# Predict the values of y\n",
    "y_pred_train_nb = clf_nb.predict(X_train_tfidf_vector)\n",
    "y_pred_test_nb = clf_nb.predict(X_test_tfidf_vector)\n",
    "\n",
    "print(\"Accuracy for Naive Bayes model:\",accuracy_score(y_test,list(y_pred_test_nb)))\n",
    "\n",
    "# Show classification report\n",
    "print(classification_report(y_test, y_pred_test_nb))"
   ]
  },
  {
   "cell_type": "code",
   "execution_count": 22,
   "metadata": {},
   "outputs": [
    {
     "name": "stdout",
     "output_type": "stream",
     "text": [
      "Accuracy for LR model: 0.8178224531285295\n",
      "Classification Report for Train\n",
      "              precision    recall  f1-score   support\n",
      "\n",
      "           0       0.82      0.81      0.81     78982\n",
      "           1       0.81      0.83      0.82     80390\n",
      "\n",
      "    accuracy                           0.82    159372\n",
      "   macro avg       0.82      0.82      0.82    159372\n",
      "weighted avg       0.82      0.82      0.82    159372\n",
      "\n"
     ]
    }
   ],
   "source": [
    "# Show classification report\n",
    "print(\"Accuracy for LR model:\",accuracy_score(y_train,list(y_pred_train_nb)))\n",
    "\n",
    "print('Classification Report for Train')\n",
    "print(classification_report(y_train, y_pred_train_nb))"
   ]
  }
 ],
 "metadata": {
  "kernelspec": {
   "display_name": "Python 3",
   "language": "python",
   "name": "python3"
  },
  "language_info": {
   "codemirror_mode": {
    "name": "ipython",
    "version": 3
   },
   "file_extension": ".py",
   "mimetype": "text/x-python",
   "name": "python",
   "nbconvert_exporter": "python",
   "pygments_lexer": "ipython3",
   "version": "3.10.7"
  }
 },
 "nbformat": 4,
 "nbformat_minor": 2
}
